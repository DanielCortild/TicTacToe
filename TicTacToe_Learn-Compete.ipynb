{
 "cells": [
  {
   "cell_type": "code",
   "execution_count": null,
   "metadata": {
    "scrolled": true
   },
   "outputs": [],
   "source": [
    "import numpy as np\n",
    "from progress import progress\n",
    "from judger import Judger\n",
    "from players import AIPlayer, RandomPlayer, HumanPlayer, DLPlayer\n",
    "\n",
    "import matplotlib.pyplot as plt"
   ]
  },
  {
   "cell_type": "code",
   "execution_count": null,
   "metadata": {},
   "outputs": [],
   "source": [
    "def train_compete ( P1, P2, epochs = 500 ):\n",
    "    \n",
    "    P1W_AIRd = []\n",
    "    P2W_AIRd = []\n",
    "    Drw_AIRd = []\n",
    "    \n",
    "    P1W_RdAI = []\n",
    "    P2W_RdAI = []\n",
    "    Drw_RdAI = []\n",
    "\n",
    "    judger = Judger( P1, P2, learning = True )\n",
    "    \n",
    "    P1Win = 0.0\n",
    "    P2Win = 0.0\n",
    "    Draws = 0.0\n",
    "    \n",
    "    for i in range(epochs):\n",
    "        \n",
    "        winner = judger.play( show = False )\n",
    "        \n",
    "        if winner == 1:\n",
    "            P1Win += 1\n",
    "        if winner == -1:\n",
    "            P2Win += 1\n",
    "        if winner == 0:\n",
    "            Draws += 1\n",
    "            \n",
    "        judger.reset()\n",
    "        \n",
    "        progress( count = i+1, total = epochs, \n",
    "                 status1 = 'Game %s/%s' % ( str(i+1).zfill(int(np.ceil(np.log10(epochs+1)))), epochs), \n",
    "                 status2 = 'P1Wins: %.2f, P2Wins: %.2f, Draws: %.2f' % (\n",
    "                     P1Win/(i+1), P2Win/(i+1), Draws/(i+1) ) )\n",
    "        \n",
    "        if i % 100 == 0:  \n",
    "            P1.savePolicy()\n",
    "            P2.savePolicy()\n",
    "            \n",
    "            P1W_AIRd, P2W_AIRd, Drw_AIRd = compete( DLPlayer(), RandomPlayer(), \n",
    "                                                    P1W_AIRd, P2W_AIRd, Drw_AIRd, games = 50 )\n",
    "            P1W_RdAI, P2W_RdAI, Drw_RdAI = compete( RandomPlayer(), DLPlayer(), \n",
    "                                                    P1W_RdAI, P2W_RdAI, Drw_RdAI, games = 50 )\n",
    "        \n",
    "    P1.savePolicy()\n",
    "    P2.savePolicy()\n",
    "    \n",
    "    fig, (pltAIRd, pltRdAI) = plt.subplots(2,1)\n",
    "    \n",
    "    pltAIRd.plot(P1W_AIRd, label = 'P1=AI' )\n",
    "    pltAIRd.plot(P2W_AIRd, label = 'P2=Random' )\n",
    "    pltAIRd.plot(Drw_AIRd, label = 'Draws')\n",
    "\n",
    "    pltAIRd.legend()\n",
    "    pltAIRd.set_title( 'AI vs Random' )\n",
    "    pltAIRd.label_outer()\n",
    "    \n",
    "    pltRdAI.plot(P1W_RdAI, label = 'P1=Random' )\n",
    "    pltRdAI.plot(P2W_RdAI, label = 'P2=AI' )\n",
    "    pltRdAI.plot(Drw_RdAI, label = 'Draws')\n",
    "\n",
    "    pltRdAI.legend()\n",
    "    pltRdAI.set_title( 'Random vs AI' )\n",
    "    pltRdAI.label_outer()\n",
    "\n",
    "\n",
    "    plt.show()"
   ]
  },
  {
   "cell_type": "code",
   "execution_count": null,
   "metadata": {},
   "outputs": [],
   "source": [
    "def compete ( P1, P2, P1W, P2W, Dr, games = 500 ):\n",
    "    \n",
    "    judgerC = Judger( P1, P2, learning = False )\n",
    "    \n",
    "    P1.loadPolicy()\n",
    "    P2.loadPolicy()\n",
    "    \n",
    "    P1Win = 0.0\n",
    "    P2Win = 0.0\n",
    "    Draws = 0.0\n",
    "    \n",
    "    for i in range(games):\n",
    "        \n",
    "        winner = judgerC.play( show = False )\n",
    "        \n",
    "        if winner == 1:\n",
    "            P1Win += 1\n",
    "        if winner == -1:\n",
    "            P2Win += 1\n",
    "        if winner == 0:\n",
    "            Draws += 1\n",
    "            \n",
    "        judgerC.reset()\n",
    "        \n",
    "    P1W.append( P1Win/games )\n",
    "    P2W.append( P2Win/games )\n",
    "    Dr.append( Draws/games )\n",
    "    \n",
    "    return P1W, P2W, Dr"
   ]
  },
  {
   "cell_type": "code",
   "execution_count": null,
   "metadata": {
    "scrolled": false
   },
   "outputs": [],
   "source": [
    "# AI vs AI, learning\n",
    "train_compete( AIPlayer( exp = 0.1 ), AIPlayer( exp = 0.1 ), epochs = 1000 )"
   ]
  },
  {
   "cell_type": "code",
   "execution_count": null,
   "metadata": {},
   "outputs": [],
   "source": [
    "# AI vs Random, learning\n",
    "train( AIPlayer( exp = 0.1 ), RandomPlayer(), epochs = 1000 )"
   ]
  },
  {
   "cell_type": "code",
   "execution_count": null,
   "metadata": {},
   "outputs": [],
   "source": [
    "# Random vs AI, learning\n",
    "train( RandomPlayer(), AIPlayer( exp = 0.1 ), epochs = 10000 )"
   ]
  },
  {
   "cell_type": "code",
   "execution_count": null,
   "metadata": {},
   "outputs": [],
   "source": [
    "# DL vs DL, learning-competing\n",
    "train_compete( DLPlayer( exp = 0.1 ), DLPlayer( exp = 0.1 ), epochs = 5000 )"
   ]
  }
 ],
 "metadata": {
  "kernelspec": {
   "display_name": "Python 3",
   "language": "python",
   "name": "python3"
  },
  "language_info": {
   "codemirror_mode": {
    "name": "ipython",
    "version": 3
   },
   "file_extension": ".py",
   "mimetype": "text/x-python",
   "name": "python",
   "nbconvert_exporter": "python",
   "pygments_lexer": "ipython3",
   "version": "3.7.4"
  },
  "varInspector": {
   "cols": {
    "lenName": 16,
    "lenType": 16,
    "lenVar": 40
   },
   "kernels_config": {
    "python": {
     "delete_cmd_postfix": "",
     "delete_cmd_prefix": "del ",
     "library": "var_list.py",
     "varRefreshCmd": "print(var_dic_list())"
    },
    "r": {
     "delete_cmd_postfix": ") ",
     "delete_cmd_prefix": "rm(",
     "library": "var_list.r",
     "varRefreshCmd": "cat(var_dic_list()) "
    }
   },
   "position": {
    "height": "435px",
    "left": "821px",
    "right": "20px",
    "top": "122px",
    "width": "432px"
   },
   "types_to_exclude": [
    "module",
    "function",
    "builtin_function_or_method",
    "instance",
    "_Feature"
   ],
   "window_display": false
  }
 },
 "nbformat": 4,
 "nbformat_minor": 2
}
