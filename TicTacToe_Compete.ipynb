{
 "cells": [
  {
   "cell_type": "code",
   "execution_count": null,
   "metadata": {},
   "outputs": [],
   "source": [
    "import numpy as np\n",
    "from progress import progress\n",
    "from judger import Judger\n",
    "from players import AIPlayer, RandomPlayer, HumanPlayer"
   ]
  },
  {
   "cell_type": "code",
   "execution_count": null,
   "metadata": {},
   "outputs": [],
   "source": [
    "def compete ( P1, P2, epochs = 500 ):\n",
    "    \n",
    "    judger = Judger( P1, P2, learning = False )\n",
    "    \n",
    "    P1.loadPolicy()\n",
    "    P2.loadPolicy()\n",
    "    \n",
    "    P1Win = 0.0\n",
    "    P2Win = 0.0\n",
    "    Draws = 0.0\n",
    "    \n",
    "    for i in range(epochs):\n",
    "        \n",
    "        winner = judger.play( show = False )\n",
    "        \n",
    "        if winner == 1:\n",
    "            P1Win += 1\n",
    "        if winner == -1:\n",
    "            P2Win += 1\n",
    "        if winner == 0:\n",
    "            Draws += 1\n",
    "            \n",
    "        judger.reset()\n",
    "        \n",
    "        progress( count = i+1, total = epochs, \n",
    "                 status1 = 'Game %s/%s' % ( str(i+1).zfill(int(np.ceil(np.log10(epochs+1)))), epochs), \n",
    "                 status2 = 'P1Wins: %.2f, P2Wins: %.2f, Draws: %.2f' % (\n",
    "                     P1Win/(i+1), P2Win/(i+1), Draws/(i+1) ) )"
   ]
  },
  {
   "cell_type": "code",
   "execution_count": null,
   "metadata": {},
   "outputs": [],
   "source": [
    "# AI vs AI, competing\n",
    "compete( AIPlayer( exp = 0 ), AIPlayer( exp = 0 ), epochs = 1000 )"
   ]
  },
  {
   "cell_type": "code",
   "execution_count": null,
   "metadata": {},
   "outputs": [],
   "source": [
    "#AI vs Random, competing\n",
    "compete( AIPlayer( exp = 0 ), RandomPlayer(), epochs = 1000 )"
   ]
  },
  {
   "cell_type": "code",
   "execution_count": null,
   "metadata": {},
   "outputs": [],
   "source": [
    "#Random vs AI, competing\n",
    "compete( RandomPlayer(), AIPlayer( exp = 0 ), epochs = 1000 )"
   ]
  },
  {
   "cell_type": "code",
   "execution_count": null,
   "metadata": {},
   "outputs": [],
   "source": [
    "#Random vs Random, competing\n",
    "compete( RandomPlayer(), RandomPlayer(), epochs = 1000 )"
   ]
  }
 ],
 "metadata": {
  "kernelspec": {
   "display_name": "Python 3",
   "language": "python",
   "name": "python3"
  },
  "language_info": {
   "codemirror_mode": {
    "name": "ipython",
    "version": 3
   },
   "file_extension": ".py",
   "mimetype": "text/x-python",
   "name": "python",
   "nbconvert_exporter": "python",
   "pygments_lexer": "ipython3",
   "version": "3.7.5"
  },
  "varInspector": {
   "cols": {
    "lenName": 16,
    "lenType": 16,
    "lenVar": 40
   },
   "kernels_config": {
    "python": {
     "delete_cmd_postfix": "",
     "delete_cmd_prefix": "del ",
     "library": "var_list.py",
     "varRefreshCmd": "print(var_dic_list())"
    },
    "r": {
     "delete_cmd_postfix": ") ",
     "delete_cmd_prefix": "rm(",
     "library": "var_list.r",
     "varRefreshCmd": "cat(var_dic_list()) "
    }
   },
   "position": {
    "height": "435px",
    "left": "821px",
    "right": "20px",
    "top": "122px",
    "width": "432px"
   },
   "types_to_exclude": [
    "module",
    "function",
    "builtin_function_or_method",
    "instance",
    "_Feature"
   ],
   "window_display": false
  }
 },
 "nbformat": 4,
 "nbformat_minor": 2
}
