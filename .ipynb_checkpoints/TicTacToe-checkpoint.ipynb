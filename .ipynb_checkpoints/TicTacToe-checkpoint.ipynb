{
 "cells": [
  {
   "cell_type": "code",
   "execution_count": 1,
   "metadata": {},
   "outputs": [],
   "source": [
    "import numpy as np\n",
    "from progress import progress\n",
    "from judger import Judger\n",
    "from players import AIPlayer, HumanPlayer"
   ]
  },
  {
   "cell_type": "code",
   "execution_count": 2,
   "metadata": {},
   "outputs": [],
   "source": [
    "def train ( epochs = 500 ):\n",
    "    \n",
    "    P1 = AIPlayer( exploreRate = 0.1 )\n",
    "    P2 = AIPlayer( exploreRate = 0.1 )\n",
    "    judger = Judger( P1, P2, learning = True )\n",
    "    \n",
    "    P1Win = 0.0\n",
    "    P2Win = 0.0\n",
    "    Draws = 0.0\n",
    "    \n",
    "    for i in range(epochs):\n",
    "        \n",
    "        winner = judger.play( show = False )\n",
    "        \n",
    "        if winner == 1:\n",
    "            P1Win += 1\n",
    "        if winner == -1:\n",
    "            P2Win += 1\n",
    "        if winner == 0:\n",
    "            Draws += 1\n",
    "            \n",
    "        judger.reset()\n",
    "        \n",
    "        progress( count = i+1, total = epochs, \n",
    "                 status1 = 'Epoch %s/%s' % ( str(i+1).zfill(int(np.ceil(np.log10(epochs+1)))), epochs), \n",
    "                 status2 = 'P1Wins: %.2f, P2Wins: %.2f, Draws: %.2f' % (\n",
    "                     P1Win/(i+1), P2Win/(i+1), Draws/(i+1) ) )\n",
    "    \n",
    "    P1.savePolicy()\n",
    "    P2.savePolicy()"
   ]
  },
  {
   "cell_type": "code",
   "execution_count": 3,
   "metadata": {},
   "outputs": [],
   "source": [
    "def compete ( P1, P2, turns = 500 ):\n",
    "    \n",
    "    judger = Judger( P1, P2, learning = False )\n",
    "    \n",
    "    P1.loadPolicy()\n",
    "    P2.loadPolicy()\n",
    "    \n",
    "    P1Win = 0.0\n",
    "    P2Win = 0.0\n",
    "    Draws = 0.0\n",
    "    \n",
    "    for i in range( turns ):\n",
    "        \n",
    "        winner = judger.play( show = False )\n",
    "        \n",
    "        if winner == 1:\n",
    "            P1Win += 1\n",
    "        if winner == -1:\n",
    "            P2Win += 1\n",
    "        if winner == 0:\n",
    "            Draws += 1\n",
    "            \n",
    "        judger.reset()\n",
    "        \n",
    "        progress( count = i+1, total = turns, \n",
    "                 status1 = 'Turn %s/%s' % ( str(i+1).zfill(int(np.ceil(np.log10(turns+1)))), turns), \n",
    "                 status2 = 'P1Wins: %.2f, P2Wins: %.2f, Draws: %.2f' % (\n",
    "                     P1Win/(i+1), P2Win/(i+1), Draws/(i+1) ) )"
   ]
  },
  {
   "cell_type": "code",
   "execution_count": 9,
   "metadata": {},
   "outputs": [],
   "source": [
    "def play():\n",
    "    \n",
    "    P1 = AIPlayer( exploreRate = 0 )\n",
    "    P2 = HumanPlayer()\n",
    "    judger = Judger( P1, P2, learning = False )\n",
    "\n",
    "    P1.loadPolicy()\n",
    "\n",
    "    winner = judger.play( show = True )\n",
    "\n",
    "    if winner == P2.symbol:\n",
    "        print( \"Win!\" )\n",
    "    elif winner == P1.symbol:\n",
    "        print( \"Lose!\" )\n",
    "    else:\n",
    "        print( \"Tie!\" )"
   ]
  },
  {
   "cell_type": "code",
   "execution_count": 5,
   "metadata": {},
   "outputs": [],
   "source": [
    "def play2():\n",
    "    \n",
    "    P1 = HumanPlayer()\n",
    "    P2 = AIPlayer( exploreRate = 0 )\n",
    "    judger = Judger( P1, P2, learning = False )\n",
    "    \n",
    "    P2.loadPolicy()\n",
    "    \n",
    "    winner = judger.play( show = True )\n",
    "    \n",
    "    if winner == P1.symbol:\n",
    "        print(\"Win!\")\n",
    "    elif winner == P2.symbol:\n",
    "        print(\"Lose!\")\n",
    "    else:\n",
    "        print(\"Tie!\")"
   ]
  },
  {
   "cell_type": "code",
   "execution_count": 6,
   "metadata": {
    "scrolled": true
   },
   "outputs": [
    {
     "name": "stdout",
     "output_type": "stream",
     "text": [
      "Epoch 1000/1000 [##############################] P1Wins: 0.45, P2Wins: 0.20, Draws: 0.35\r"
     ]
    }
   ],
   "source": [
    "train(1000)"
   ]
  },
  {
   "cell_type": "code",
   "execution_count": 8,
   "metadata": {
    "scrolled": false
   },
   "outputs": [
    {
     "name": "stdout",
     "output_type": "stream",
     "text": [
      "Turn 1000/1000 [##############################] P1Wins: 0.00, P2Wins: 0.00, Draws: 1.00\r"
     ]
    }
   ],
   "source": [
    "P1 = AIPlayer( exploreRate = 0 )\n",
    "P2 = AIPlayer( exploreRate = 0 )\n",
    "compete( P1, P2, 1000 )"
   ]
  },
  {
   "cell_type": "code",
   "execution_count": 10,
   "metadata": {},
   "outputs": [
    {
     "name": "stdout",
     "output_type": "stream",
     "text": [
      "-------------\n",
      "|   |   |   | \n",
      "-------------\n",
      "|   |   |   | \n",
      "-------------\n",
      "|   |   |   | \n",
      "-------------\n",
      "\n",
      "-------------\n",
      "|   |   |   | \n",
      "-------------\n",
      "|   | O |   | \n",
      "-------------\n",
      "|   |   |   | \n",
      "-------------\n",
      "\n",
      "Input your position:1\n",
      "-------------\n",
      "|   | X |   | \n",
      "-------------\n",
      "|   | O |   | \n",
      "-------------\n",
      "|   |   |   | \n",
      "-------------\n",
      "\n",
      "-------------\n",
      "|   | X | O | \n",
      "-------------\n",
      "|   | O |   | \n",
      "-------------\n",
      "|   |   |   | \n",
      "-------------\n",
      "\n",
      "Input your position:6\n",
      "-------------\n",
      "|   | X | O | \n",
      "-------------\n",
      "|   | O |   | \n",
      "-------------\n",
      "| X |   |   | \n",
      "-------------\n",
      "\n",
      "-------------\n",
      "|   | X | O | \n",
      "-------------\n",
      "|   | O | O | \n",
      "-------------\n",
      "| X |   |   | \n",
      "-------------\n",
      "\n",
      "Input your position:8\n",
      "-------------\n",
      "|   | X | O | \n",
      "-------------\n",
      "|   | O | O | \n",
      "-------------\n",
      "| X |   | X | \n",
      "-------------\n",
      "\n"
     ]
    },
    {
     "ename": "NameError",
     "evalue": "name 'player2' is not defined",
     "output_type": "error",
     "traceback": [
      "\u001b[0;31m---------------------------------------------------------------------------\u001b[0m",
      "\u001b[0;31mNameError\u001b[0m                                 Traceback (most recent call last)",
      "\u001b[0;32m<ipython-input-10-425fd712de3c>\u001b[0m in \u001b[0;36m<module>\u001b[0;34m\u001b[0m\n\u001b[0;32m----> 1\u001b[0;31m \u001b[0mplay\u001b[0m\u001b[0;34m(\u001b[0m\u001b[0;34m)\u001b[0m\u001b[0;34m\u001b[0m\u001b[0;34m\u001b[0m\u001b[0m\n\u001b[0m",
      "\u001b[0;32m<ipython-input-9-66a006dace40>\u001b[0m in \u001b[0;36mplay\u001b[0;34m()\u001b[0m\n\u001b[1;32m      9\u001b[0m         \u001b[0mwinner\u001b[0m \u001b[0;34m=\u001b[0m \u001b[0mjudger\u001b[0m\u001b[0;34m.\u001b[0m\u001b[0mplay\u001b[0m\u001b[0;34m(\u001b[0m \u001b[0mshow\u001b[0m \u001b[0;34m=\u001b[0m \u001b[0;32mTrue\u001b[0m \u001b[0;34m)\u001b[0m\u001b[0;34m\u001b[0m\u001b[0;34m\u001b[0m\u001b[0m\n\u001b[1;32m     10\u001b[0m \u001b[0;34m\u001b[0m\u001b[0m\n\u001b[0;32m---> 11\u001b[0;31m         \u001b[0;32mif\u001b[0m \u001b[0mwinner\u001b[0m \u001b[0;34m==\u001b[0m \u001b[0mplayer2\u001b[0m\u001b[0;34m.\u001b[0m\u001b[0msymbol\u001b[0m\u001b[0;34m:\u001b[0m\u001b[0;34m\u001b[0m\u001b[0;34m\u001b[0m\u001b[0m\n\u001b[0m\u001b[1;32m     12\u001b[0m             \u001b[0mprint\u001b[0m\u001b[0;34m(\u001b[0m \u001b[0;34m\"Win!\"\u001b[0m \u001b[0;34m)\u001b[0m\u001b[0;34m\u001b[0m\u001b[0;34m\u001b[0m\u001b[0m\n\u001b[1;32m     13\u001b[0m         \u001b[0;32melif\u001b[0m \u001b[0mwinner\u001b[0m \u001b[0;34m==\u001b[0m \u001b[0mplayer1\u001b[0m\u001b[0;34m.\u001b[0m\u001b[0msymbol\u001b[0m\u001b[0;34m:\u001b[0m\u001b[0;34m\u001b[0m\u001b[0;34m\u001b[0m\u001b[0m\n",
      "\u001b[0;31mNameError\u001b[0m: name 'player2' is not defined"
     ]
    }
   ],
   "source": [
    "play()"
   ]
  },
  {
   "cell_type": "code",
   "execution_count": null,
   "metadata": {},
   "outputs": [],
   "source": []
  }
 ],
 "metadata": {
  "kernelspec": {
   "display_name": "Python 3",
   "language": "python",
   "name": "python3"
  },
  "language_info": {
   "codemirror_mode": {
    "name": "ipython",
    "version": 3
   },
   "file_extension": ".py",
   "mimetype": "text/x-python",
   "name": "python",
   "nbconvert_exporter": "python",
   "pygments_lexer": "ipython3",
   "version": "3.7.5"
  },
  "varInspector": {
   "cols": {
    "lenName": 16,
    "lenType": 16,
    "lenVar": 40
   },
   "kernels_config": {
    "python": {
     "delete_cmd_postfix": "",
     "delete_cmd_prefix": "del ",
     "library": "var_list.py",
     "varRefreshCmd": "print(var_dic_list())"
    },
    "r": {
     "delete_cmd_postfix": ") ",
     "delete_cmd_prefix": "rm(",
     "library": "var_list.r",
     "varRefreshCmd": "cat(var_dic_list()) "
    }
   },
   "position": {
    "height": "435px",
    "left": "821px",
    "right": "20px",
    "top": "122px",
    "width": "432px"
   },
   "types_to_exclude": [
    "module",
    "function",
    "builtin_function_or_method",
    "instance",
    "_Feature"
   ],
   "window_display": false
  }
 },
 "nbformat": 4,
 "nbformat_minor": 2
}
