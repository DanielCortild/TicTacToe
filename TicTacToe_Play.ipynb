{
 "cells": [
  {
   "cell_type": "code",
   "execution_count": null,
   "metadata": {
    "scrolled": true
   },
   "outputs": [],
   "source": [
    "import numpy as np\n",
    "from progress import progress\n",
    "from judger import Judger\n",
    "from players import AIPlayer, RandomPlayer, HumanPlayer"
   ]
  },
  {
   "cell_type": "code",
   "execution_count": null,
   "metadata": {},
   "outputs": [],
   "source": [
    "def play ( P1, P2 ):\n",
    "\n",
    "    judger = Judger( P1, P2, learning = False )\n",
    "    \n",
    "    P1.loadPolicy()\n",
    "    P2.loadPolicy()\n",
    "    \n",
    "    winner = judger.play( show = True )\n",
    "\n",
    "    if winner == 1:\n",
    "        print( \"Player 1 (X) wins\" )\n",
    "    elif winner == -1:\n",
    "        print( \"Player 2 (O) wins\" )\n",
    "    else:\n",
    "        print( \"Tie!\" )"
   ]
  },
  {
   "cell_type": "code",
   "execution_count": null,
   "metadata": {
    "scrolled": true
   },
   "outputs": [],
   "source": [
    "# AI vs AI, competing\n",
    "play( AIPlayer(), AIPlayer() )"
   ]
  },
  {
   "cell_type": "code",
   "execution_count": null,
   "metadata": {
    "scrolled": false
   },
   "outputs": [],
   "source": [
    "#Human vs AI, competing\n",
    "play( HumanPlayer(), AIPlayer() )"
   ]
  },
  {
   "cell_type": "code",
   "execution_count": null,
   "metadata": {},
   "outputs": [],
   "source": [
    "#AI vs Human, competing\n",
    "play( AIPlayer(), HumanPlayer() )"
   ]
  },
  {
   "cell_type": "code",
   "execution_count": null,
   "metadata": {},
   "outputs": [],
   "source": [
    "#Human vs Human, competing\n",
    "play( HumanPlayer(), HumanPlayer() )"
   ]
  },
  {
   "cell_type": "code",
   "execution_count": null,
   "metadata": {},
   "outputs": [],
   "source": [
    "#Random vs Human, competing\n",
    "play( RandomPlayer(), HumanPlayer() )"
   ]
  },
  {
   "cell_type": "code",
   "execution_count": null,
   "metadata": {},
   "outputs": [],
   "source": [
    "#Human vs Random, competing\n",
    "play( HumanPlayer(), RandomPlayer() )"
   ]
  },
  {
   "cell_type": "code",
   "execution_count": null,
   "metadata": {},
   "outputs": [],
   "source": [
    "#Random vs Random, competing\n",
    "play( RandomPlayer(), RandomPlayer() )"
   ]
  },
  {
   "cell_type": "code",
   "execution_count": null,
   "metadata": {},
   "outputs": [],
   "source": [
    "#AI vs Random, competing\n",
    "play( AIPlayer(), RandomPlayer() )"
   ]
  },
  {
   "cell_type": "code",
   "execution_count": null,
   "metadata": {},
   "outputs": [],
   "source": [
    "#Random vs AI, competing\n",
    "play( RandomPlayer(), AIPlayer() )"
   ]
  }
 ],
 "metadata": {
  "kernelspec": {
   "display_name": "Python 3",
   "language": "python",
   "name": "python3"
  },
  "language_info": {
   "codemirror_mode": {
    "name": "ipython",
    "version": 3
   },
   "file_extension": ".py",
   "mimetype": "text/x-python",
   "name": "python",
   "nbconvert_exporter": "python",
   "pygments_lexer": "ipython3",
   "version": "3.7.4"
  },
  "varInspector": {
   "cols": {
    "lenName": 16,
    "lenType": 16,
    "lenVar": 40
   },
   "kernels_config": {
    "python": {
     "delete_cmd_postfix": "",
     "delete_cmd_prefix": "del ",
     "library": "var_list.py",
     "varRefreshCmd": "print(var_dic_list())"
    },
    "r": {
     "delete_cmd_postfix": ") ",
     "delete_cmd_prefix": "rm(",
     "library": "var_list.r",
     "varRefreshCmd": "cat(var_dic_list()) "
    }
   },
   "position": {
    "height": "435px",
    "left": "821px",
    "right": "20px",
    "top": "122px",
    "width": "432px"
   },
   "types_to_exclude": [
    "module",
    "function",
    "builtin_function_or_method",
    "instance",
    "_Feature"
   ],
   "window_display": false
  }
 },
 "nbformat": 4,
 "nbformat_minor": 2
}
